{
  "nbformat": 4,
  "nbformat_minor": 0,
  "metadata": {
    "colab": {
      "provenance": [],
      "authorship_tag": "ABX9TyPK+89iTkxLtp1hhj9+IC13",
      "include_colab_link": true
    },
    "kernelspec": {
      "name": "python3",
      "display_name": "Python 3"
    },
    "language_info": {
      "name": "python"
    }
  },
  "cells": [
    {
      "cell_type": "markdown",
      "metadata": {
        "id": "view-in-github",
        "colab_type": "text"
      },
      "source": [
        "<a href=\"https://colab.research.google.com/github/RosheenaAli12/JAWAN-PAKISTAN/blob/main/Assignment_5_Combining_Formatting_Methods_.ipynb\" target=\"_parent\"><img src=\"https://colab.research.google.com/assets/colab-badge.svg\" alt=\"Open In Colab\"/></a>"
      ]
    },
    {
      "cell_type": "code",
      "execution_count": null,
      "metadata": {
        "id": "lC8WtnMOio00"
      },
      "outputs": [],
      "source": [
        "Assignment 5: Combining Formatting Methods**\n",
        "\n",
        "**Instructions:**\n",
        "\n",
        "1. Create a variable `product` and assign a product name.\n",
        "2. Create a variable `discount` and assign a discount percentage.\n",
        "3. Create a variable `original_price` and assign an original price.\n",
        "4. Calculate the discounted price using the formula: `discounted_price = original_price * (1 - discount / 100)`.\n",
        "5. Using any combination of string formatting methods (`+`, `.format()`, `f''`, `%()`), create a descriptive string with the product name, original price, discount percentage, and discounted price.\n",
        "6. Print the descriptive string.\n"
      ]
    },
    {
      "cell_type": "code",
      "source": [
        "\n",
        "product = \"foundation ivory\"\n",
        "discount = 20  # 20% discount\n",
        "original_price = 100.0\n",
        "\n",
        "discounted_price = original_price * (1 - discount / 100)\n",
        "descriptive_string = f\"Product: {product}\\nOriginal Price: ${original_price:.2f}\\nDiscount: {discount}%\\nDiscounted Price: ${discounted_price:.2f}\"\n",
        "\n",
        "print(descriptive_string)\n",
        "\n",
        "\n",
        "\n",
        "\n",
        "\n",
        "\n"
      ],
      "metadata": {
        "colab": {
          "base_uri": "https://localhost:8080/"
        },
        "id": "w02zYXK_iqic",
        "outputId": "b676f6c0-f033-4f6a-c12a-4e04d0a6a24b"
      },
      "execution_count": 1,
      "outputs": [
        {
          "output_type": "stream",
          "name": "stdout",
          "text": [
            "Product: foundation ivory\n",
            "Original Price: $100.00\n",
            "Discount: 20%\n",
            "Discounted Price: $80.00\n"
          ]
        }
      ]
    }
  ]
}