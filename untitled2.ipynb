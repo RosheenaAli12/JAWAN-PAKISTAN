{
  "nbformat": 4,
  "nbformat_minor": 0,
  "metadata": {
    "colab": {
      "provenance": [],
      "authorship_tag": "ABX9TyMHcvXs5yIZjik7r7g0pG8N",
      "include_colab_link": true
    },
    "kernelspec": {
      "name": "python3",
      "display_name": "Python 3"
    },
    "language_info": {
      "name": "python"
    }
  },
  "cells": [
    {
      "cell_type": "markdown",
      "metadata": {
        "id": "view-in-github",
        "colab_type": "text"
      },
      "source": [
        "<a href=\"https://colab.research.google.com/github/RosheenaAli12/JAWAN-PAKISTAN/blob/main/untitled2.ipynb\" target=\"_parent\"><img src=\"https://colab.research.google.com/assets/colab-badge.svg\" alt=\"Open In Colab\"/></a>"
      ]
    },
    {
      "cell_type": "code",
      "execution_count": null,
      "metadata": {
        "id": "bC8RQkF6Mif_"
      },
      "outputs": [],
      "source": [
        "Python String Concatenation and Formatting Assignments**\n",
        "\n",
        "**Assignment 1: String Concatenation and Formatting**\n",
        "\n",
        "**Instructions:**\n",
        "\n",
        "1. Create a variable `name` and assign your name to it.\n",
        "2. Create a variable `age` and assign your age to it.\n",
        "3. Create a variable `country` and assign your country of residence to it.\n",
        "4. Using the `+` operator, concatenate the variables to form a sentence in the following format: \"My name is `<name>`, I am `<age>` years old, and I live in `<country>`.\"\n",
        "5. Print the concatenated sentence.\n"
      ]
    },
    {
      "cell_type": "code",
      "source": [
        "name = (\"Roshni\")\n",
        "age =  (\"23\")\n",
        "country = (\"Pakistan\")\n",
        "sentence = \"My name is {}, I am {} years old, and I live in {}.\".format(name, age, country)\n",
        "print(sentence)"
      ],
      "metadata": {
        "colab": {
          "base_uri": "https://localhost:8080/"
        },
        "id": "TwJ4utG8O38v",
        "outputId": "f4c55bec-5997-4971-9f0b-c8b6e8ff48c5"
      },
      "execution_count": null,
      "outputs": [
        {
          "output_type": "stream",
          "name": "stdout",
          "text": [
            "My name is Roshni, I am 23 years old, and I live in Pakistan.\n"
          ]
        }
      ]
    }
  ]
}